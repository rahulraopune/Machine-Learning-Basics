{
  "nbformat": 4,
  "nbformat_minor": 0,
  "metadata": {
    "colab": {
      "name": "PerceptronLearningAlgorithm.ipynb",
      "provenance": [],
      "collapsed_sections": [],
      "authorship_tag": "ABX9TyPVyLHpKyMp6Up7q3BWVAtC"
    },
    "kernelspec": {
      "name": "python3",
      "display_name": "Python 3"
    }
  },
  "cells": [
    {
      "cell_type": "code",
      "metadata": {
        "id": "B6CDa-Fptk6k",
        "colab_type": "code",
        "colab": {}
      },
      "source": [
        "import numpy as np\n",
        "import pandas as pd\n",
        "import matplotlib.pyplot as plt\n",
        "import matplotlib.pyplot as plt\n",
        "import sklearn.datasets\n",
        "import pandas as pd\n",
        "from sklearn.preprocessing import MinMaxScaler\n",
        "from sklearn.model_selection import train_test_split\n",
        "from sklearn.metrics import accuracy_score"
      ],
      "execution_count": 0,
      "outputs": []
    },
    {
      "cell_type": "code",
      "metadata": {
        "id": "uWcKiF4itpGB",
        "colab_type": "code",
        "colab": {}
      },
      "source": [
        "class Perceptron:\n",
        "\n",
        "    def __init__(self):\n",
        "        self.w = None # Weights Vector\n",
        "        self.b = None # Bias\n",
        "\n",
        "    def activation(self, x):\n",
        "        return 1.0 if np.dot(self.w, x) >= self.b else 0.0\n",
        "\n",
        "    def predict(self, X):\n",
        "        Y = []\n",
        "        for x in X:\n",
        "            t = self.activation(x)\n",
        "            Y.append(t)\n",
        "        return np.array(Y)\n",
        "\n",
        "    def fit(self, X, Y, iterations = 1, learning_rate = 1):\n",
        "        wt_matrix = []\n",
        "        accuracy = []\n",
        "        max_accuracy = 0\n",
        "\n",
        "        rows,cols = X.shape # (Rows, cols)\n",
        "        self.w = np.ones(cols)\n",
        "        self.b = 0\n",
        "        # LEARNING BEGINS HERE\n",
        "        for i in range(iterations):\n",
        "            for x,y in zip(X,Y):\n",
        "                h_x = self.activation(x)\n",
        "                #Misprediction\n",
        "                if y != h_x:\n",
        "                    self.w = self.w + (y - h_x) * learning_rate * x\n",
        "                    self.b = self.b + (y - h_x) * -1 * learning_rate\n",
        "            wt_matrix.append(self.w)\n",
        "        return np.array(wt_matrix)"
      ],
      "execution_count": 0,
      "outputs": []
    },
    {
      "cell_type": "code",
      "metadata": {
        "id": "PEXG6wMhttgi",
        "colab_type": "code",
        "colab": {
          "base_uri": "https://localhost:8080/",
          "height": 34
        },
        "outputId": "9cecce24-b522-42e0-c7d5-b9f9559f378a"
      },
      "source": [
        "dataset = sklearn.datasets.load_breast_cancer()\n",
        "df = pd.DataFrame(dataset.data, columns=dataset.feature_names)\n",
        "df[\"class\"] = dataset.target\n",
        "X = df.drop('class', axis=1)\n",
        "Y = df['class']\n",
        "X = pd.DataFrame(X, columns=df.drop(\"class\", axis = 1).columns)\n",
        "X_train, X_test, Y_train, Y_test = train_test_split(X,Y, test_size = 0.8, random_state = 2)\n",
        "perceptron = Perceptron()\n",
        "X_train = X_train.values\n",
        "Y_train = Y_train.values\n",
        "wt_matrix = perceptron.fit(X_train, Y_train, 100, 0.7)\n",
        "X_test = X_test.values\n",
        "Y_test = Y_test.values\n",
        "Y_pred_test = perceptron.predict(X_test)\n",
        "print(\"Accuracy = \"+str(accuracy_score(Y_pred_test, Y_test)*100)+\" %\")"
      ],
      "execution_count": 4,
      "outputs": [
        {
          "output_type": "stream",
          "text": [
            "Accuracy = 89.25438596491229 %\n"
          ],
          "name": "stdout"
        }
      ]
    }
  ]
}